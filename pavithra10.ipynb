{
 "cells": [
  {
   "cell_type": "code",
   "execution_count": 2,
   "id": "bc721e14-767f-4b03-8604-71858fbbcca8",
   "metadata": {},
   "outputs": [
    {
     "name": "stdout",
     "output_type": "stream",
     "text": [
      "2\n",
      "4\n",
      "6\n",
      "8\n",
      "10\n",
      "12\n",
      "14\n",
      "16\n",
      "18\n",
      "20\n"
     ]
    }
   ],
   "source": [
    "for i in range(1,11):\n",
    "    print(2*i)"
   ]
  },
  {
   "cell_type": "code",
   "execution_count": 9,
   "id": "61697e98-1734-4f10-8438-9de0e50f7ed6",
   "metadata": {},
   "outputs": [
    {
     "name": "stdout",
     "output_type": "stream",
     "text": [
      "2\n",
      "4\n",
      "6\n",
      "8\n",
      "10\n",
      "12\n",
      "14\n",
      "16\n",
      "18\n",
      "20\n"
     ]
    }
   ],
   "source": [
    "#recursion\n",
    "def fun(i):\n",
    "    if i==11:\n",
    "        return\n",
    "    print(2*i)\n",
    "    i=i+1\n",
    "    fun(i)\n",
    "    return\n",
    "fun(1)"
   ]
  },
  {
   "cell_type": "code",
   "execution_count": 33,
   "id": "ad36c218-a6a5-47c0-b611-8e69fd11e0cd",
   "metadata": {},
   "outputs": [
    {
     "name": "stdin",
     "output_type": "stream",
     "text": [
      " 0\n"
     ]
    },
    {
     "name": "stdout",
     "output_type": "stream",
     "text": [
      "0\n"
     ]
    }
   ],
   "source": [
    "#factorial using recursion\n",
    "n=int(input())\n",
    "def fact(n):\n",
    "    if n==0 or n==1:\n",
    "        return n\n",
    "\n",
    "    return n*fact(n-1)\n",
    "print(fact(n))"
   ]
  },
  {
   "cell_type": "code",
   "execution_count": 39,
   "id": "f1c81e3c-b3f4-42ff-bc84-cbf5b5e2ec7e",
   "metadata": {},
   "outputs": [
    {
     "name": "stdin",
     "output_type": "stream",
     "text": [
      " 5\n"
     ]
    },
    {
     "name": "stdout",
     "output_type": "stream",
     "text": [
      "5\n"
     ]
    }
   ],
   "source": [
    "#fibonacci using recursion\n",
    "n=int(input())\n",
    "def fib(n):\n",
    "    if n==0 or n==1:\n",
    "        return n\n",
    "    return (fib(n-1)+fib(n-2))\n",
    "print(fib(n))"
   ]
  },
  {
   "cell_type": "code",
   "execution_count": 40,
   "id": "a0ad5b6c-7c59-4d0a-b107-9f97986e413c",
   "metadata": {},
   "outputs": [
    {
     "name": "stdin",
     "output_type": "stream",
     "text": [
      " 10\n"
     ]
    },
    {
     "name": "stdout",
     "output_type": "stream",
     "text": [
      "0\n",
      "1\n",
      "1\n",
      "2\n",
      "3\n",
      "5\n",
      "8\n",
      "13\n",
      "21\n",
      "34\n",
      "10\n"
     ]
    }
   ],
   "source": [
    "#fibonacci using iterative \n",
    "n=int(input())\n",
    "n1=0\n",
    "n2=1\n",
    "count=0\n",
    "if n<=0:\n",
    "    print(\"invalid input\")\n",
    "elif n==1:\n",
    "    print(n1)\n",
    "else:\n",
    "    while count<n:\n",
    "        print(n1)\n",
    "        n3=n1+n2\n",
    "        n1,n2=n2,n3\n",
    "        count+=1\n",
    "print(n)"
   ]
  },
  {
   "cell_type": "code",
   "execution_count": 43,
   "id": "b213d79d-4024-4a42-b72f-213ee6f59322",
   "metadata": {},
   "outputs": [
    {
     "name": "stdout",
     "output_type": "stream",
     "text": [
      "[1, 2, 3, 4, 5, 6, 7, 8, 9]\n"
     ]
    }
   ],
   "source": [
    "#quick sort\n",
    "def findpi(a,low,high):\n",
    "    pe=a[high]\n",
    "    j=low-1\n",
    "    for i in range(low,high):\n",
    "        if pe>a[i]:\n",
    "            j+=1\n",
    "            a[i],a[j]=a[j],a[i]\n",
    "    a[high],a[j+1]=a[j+1],a[high]\n",
    "    return j+1\n",
    "    \n",
    "def quick(a,low,high):\n",
    "    if low<high:\n",
    "        pi=findpi(a,low,high)\n",
    "        quick(a,low,pi-1)\n",
    "        quick(a,pi+1,high)\n",
    "a=[3,5,7,2,4,8,1,9,6]\n",
    "quick(a,0,len(a)-1)\n",
    "print(a)"
   ]
  },
  {
   "cell_type": "code",
   "execution_count": 49,
   "id": "42afddc0-5355-4bd3-9a75-7bf9d1d004a2",
   "metadata": {},
   "outputs": [
    {
     "name": "stdout",
     "output_type": "stream",
     "text": [
      "node 1 <__main__.node object at 0x0000021E94DA7DD0> <__main__.node object at 0x0000021E94C289B0>\n",
      "node 2 <__main__.node object at 0x0000021E94C2BA10> <__main__.node object at 0x0000021E94DA7050>\n",
      "node 3 <__main__.node object at 0x0000021E94B91B80> <__main__.node object at 0x0000021E94DA6060>\n",
      "node 4 <__main__.node object at 0x0000021E9491E420> <__main__.node object at 0x0000021E94DA6840>\n"
     ]
    }
   ],
   "source": [
    "#linked list\n",
    "class node:\n",
    "    def __init__(self,value):\n",
    "        self.data=value\n",
    "        self.next=None\n",
    "A=node(\"apple\")\n",
    "B=node(\"ball\")\n",
    "C=node(\"cat\")\n",
    "D=node(\"dog\")\n",
    "\n",
    "head=node(A)\n",
    "head.next=node(B)\n",
    "head.next.next=node(C)\n",
    "head.next.next.next=node(D)\n",
    "\n",
    "print(\"node 1\",head,head.data)\n",
    "print(\"node 2\",head.next,head.next.data)\n",
    "print(\"node 3\",head.next.next,head.next.next.data)\n",
    "print(\"node 4\",head.next.next.next,head.next.next.next.data)"
   ]
  },
  {
   "cell_type": "code",
   "execution_count": null,
   "id": "c53ebfcd-71c0-42a7-b5ab-e013b2cba7ad",
   "metadata": {},
   "outputs": [],
   "source": []
  }
 ],
 "metadata": {
  "kernelspec": {
   "display_name": "Python 3 (ipykernel)",
   "language": "python",
   "name": "python3"
  },
  "language_info": {
   "codemirror_mode": {
    "name": "ipython",
    "version": 3
   },
   "file_extension": ".py",
   "mimetype": "text/x-python",
   "name": "python",
   "nbconvert_exporter": "python",
   "pygments_lexer": "ipython3",
   "version": "3.12.3"
  }
 },
 "nbformat": 4,
 "nbformat_minor": 5
}
