{
 "cells": [
  {
   "cell_type": "code",
   "execution_count": 5,
   "id": "04243503-8c0b-412e-92b5-ef6276df2b89",
   "metadata": {},
   "outputs": [
    {
     "name": "stdout",
     "output_type": "stream",
     "text": [
      "apple\n",
      "watermelon\n",
      "mango\n",
      "grapes\n",
      "\n"
     ]
    }
   ],
   "source": [
    "import os\n",
    "try:\n",
    "    with open(\"fruit.txt\",'r+') as f:\n",
    "        a=f.read()\n",
    "        print(a)\n",
    "        f.write(\"guava\"+\"\\n\")\n",
    "except:\n",
    "    print(\"file does not exist\")"
   ]
  },
  {
   "cell_type": "code",
   "execution_count": 35,
   "id": "e4be35db-92da-4812-9b22-1ee2cfe760a2",
   "metadata": {},
   "outputs": [
    {
     "name": "stdout",
     "output_type": "stream",
     "text": [
      "this laptop is good\n",
      "20\n"
     ]
    }
   ],
   "source": [
    "class laptop:\n",
    "    def config(self):\n",
    "        a=0\n",
    "        print(\"this laptop is good\")\n",
    "    def __init__(self,value):\n",
    "            self.b=value\n",
    "hp=laptop(20)\n",
    "hp.config()\n",
    "print(hp.b)"
   ]
  },
  {
   "cell_type": "code",
   "execution_count": 26,
   "id": "e137d2c3-f4ab-4d2b-bcfd-2d6b1abb524f",
   "metadata": {},
   "outputs": [
    {
     "name": "stdout",
     "output_type": "stream",
     "text": [
      "configuration of laptop is\n",
      "processor i5\n",
      "ram 8\n",
      "storage 512\n",
      "configuration of laptop is\n",
      "processor i6\n",
      "ram 5\n",
      "storage 654\n",
      "configuration of laptop is\n",
      "processor i7\n",
      "ram 8\n",
      "storage 225\n"
     ]
    }
   ],
   "source": [
    " #create a laptop class with variable as processor ,ram and storage \n",
    "#create function to print the configuration of the laptop\n",
    "#create 3 object of laptop with diff brand and display its configuration\n",
    "class laptop:\n",
    "    def __init__(self,processor,ram,storage):\n",
    "            self.processor=processor\n",
    "            self.ram=ram\n",
    "            self.storage=storage\n",
    "    def config(self):\n",
    "        print(\"configuration of laptop is\")\n",
    "        print(\"processor\",self.processor)\n",
    "        print(\"ram\",self.ram)\n",
    "        print(\"storage\",self.storage)\n",
    "        \n",
    "if __name__ == \"__main__\":\n",
    "    hp = laptop(\"i5\",8,512)\n",
    "    hp.config()\n",
    "    dell = laptop(\"i6\",5,654)\n",
    "    dell.config()\n",
    "    lenovo = laptop(\"i7\",8,225)\n",
    "    lenovo.config()\n",
    "\n"
   ]
  },
  {
   "cell_type": "code",
   "execution_count": 55,
   "id": "343355b2-0dc9-4d85-b178-23f8470e01fc",
   "metadata": {},
   "outputs": [
    {
     "name": "stdout",
     "output_type": "stream",
     "text": [
      "student marks are:\n",
      "maths= 60\n",
      "dsa= 66\n",
      "os= 57\n",
      "oops= 47\n",
      "dco= 77\n",
      "average= 61.4\n"
     ]
    }
   ],
   "source": [
    "#student\n",
    "class student:\n",
    "    def __init__(self,s1,s2,s3,s4,s5):\n",
    "        self.s1=s1\n",
    "        self.s2=s2\n",
    "        self.s3=s3\n",
    "        self.s4=s4\n",
    "        self.s5=s5\n",
    "    \n",
    "    def config(self):\n",
    "        print(\"student marks are:\")\n",
    "        print(\"maths=\",self.s1)\n",
    "        print(\"dsa=\",self.s2)\n",
    "        print(\"os=\",self.s3)\n",
    "        print(\"oops=\",self.s4)\n",
    "        print(\"dco=\",self.s5)\n",
    "    def avg(self):\n",
    "        t=self.s1+self.s2+self.s3+self.s4+self.s5\n",
    "        avg=t/5\n",
    "        return avg\n",
    "        #print(\"average=\",avg)\n",
    "   \n",
    "if __name__ == \"__main__\":\n",
    "    s1=student(60,66,57,47,77)\n",
    "    s1.config()\n",
    "    print(\"average=\",s1.avg())\n",
    "    "
   ]
  },
  {
   "cell_type": "code",
   "execution_count": 3,
   "id": "f0866b08-47e1-4289-bd71-f580db15aeb8",
   "metadata": {},
   "outputs": [
    {
     "name": "stdout",
     "output_type": "stream",
     "text": [
      "1\n",
      "2\n",
      "3\n"
     ]
    }
   ],
   "source": [
    "#access specifier\n",
    "class demo:\n",
    "    def __init__(self,a,b,c):\n",
    "        self.x=a\n",
    "        self.y=b\n",
    "        self.z=c\n",
    "    def outputz(self):\n",
    "        print(self.x)\n",
    "    def outputy(self):\n",
    "        print(self.y)\n",
    "    def outputz(self):\n",
    "        print(self.z)\n",
    "obj1=demo(1,2,3)\n",
    "print(obj1.x)\n",
    "print(obj1.y)\n",
    "print(obj1.z)"
   ]
  },
  {
   "cell_type": "code",
   "execution_count": 15,
   "id": "d0c4b01e-ade5-4ec8-aa60-7cc2766920a8",
   "metadata": {},
   "outputs": [
    {
     "name": "stdout",
     "output_type": "stream",
     "text": [
      "this is fun2\n"
     ]
    }
   ],
   "source": [
    "#inheritance\n",
    "class a:\n",
    "    def fun1(self):\n",
    "        print(\"this is fun1\")\n",
    "    def fun2(self):\n",
    "        print(\"this is fun2\")\n",
    "class b(a):\n",
    "    def fun3(self):\n",
    "        print(\"this is fun3\")\n",
    "    def fun4(self):\n",
    "        print(\"this is fun4\")\n",
    "class c(a):\n",
    "    def fun5(self):\n",
    "        print(\"this is fun5\")\n",
    "    def fun6(self):\n",
    "        print(\"this is fun6\")\n",
    "obj1=a()\n",
    "obj2=b()\n",
    "obj2.fun2()"
   ]
  },
  {
   "cell_type": "code",
   "execution_count": 35,
   "id": "e328614a-f250-445e-9bc6-f46c03f0edb0",
   "metadata": {},
   "outputs": [
    {
     "name": "stdout",
     "output_type": "stream",
     "text": [
      "constructor of class d\n"
     ]
    }
   ],
   "source": [
    "#constructor\n",
    "class a:\n",
    "    def __init__(self):\n",
    "        print(\"constructor of class a\")\n",
    "class b(a):\n",
    "    pass\n",
    "    #def __init__(self):\n",
    "       # print(\"constructor of class b\")\n",
    "class c():\n",
    "    def __init__(self):\n",
    "        print(\"constructor of class c\")\n",
    "class d:\n",
    "    def __init__(self):\n",
    "        print(\"constructor of class d\")\n",
    "        \n",
    "if __name__==\"__main__\":\n",
    "    ob1=d()\n",
    "    "
   ]
  },
  {
   "cell_type": "code",
   "execution_count": 41,
   "id": "a862b0a6-55ca-4fd5-8e86-a05bc4c1b9de",
   "metadata": {},
   "outputs": [
    {
     "name": "stdout",
     "output_type": "stream",
     "text": [
      "proffessional laptop having i5 8 512 6hrs\n",
      "gaming laptop having 7hrs 2 i5 6 512\n"
     ]
    }
   ],
   "source": [
    "#with super keyword\n",
    "class laptop:#super class\n",
    "    def __init__(self,p,r,s):\n",
    "        self.p=p\n",
    "        self.r=r\n",
    "        self.s=s\n",
    "class professional(laptop):\n",
    "    def __init__(self,b,p,r,s):\n",
    "        self.b=b\n",
    "        super().__init__(p,r,s)\n",
    "class gaming(professional):\n",
    "    def __init__(self,b,g,p,r,s):\n",
    "        self.g=g\n",
    "        super().__init__(b,p,r,s)\n",
    "\n",
    "pro1=professional(\"6hrs\",'i5',8,512)\n",
    "pro2=gaming(\"7hrs\",2,\"i5\",6,512)\n",
    "print(\"proffessional laptop having\",pro1.p,pro1.r,pro1.s,pro1.b)\n",
    "print(\"gaming laptop having\",pro2.b,pro2.g,pro2.p,pro2.r,pro2.s)"
   ]
  },
  {
   "cell_type": "code",
   "execution_count": 3,
   "id": "4adee90d-d4ee-4a04-9580-3e76930c12bf",
   "metadata": {},
   "outputs": [
    {
     "name": "stdout",
     "output_type": "stream",
     "text": [
      "Ticket booked Fare Price will be:  2050\n"
     ]
    }
   ],
   "source": [
    "#write a program to demonstrate the working of a railway ticket booking:\n",
    "#create required class like-ticket class,general ticket,ac ticket,first class ticket.\n",
    "#show the use of inheritance in it and create a proper ticket booking model for indian railway.\n",
    "#after booking the ticket u have to show the final ticket price to the customer\n",
    "#consider only 3 source and destination as  A 500kms/B 600kms/C 400kms\n",
    "#booking charges:50\n",
    "#distance charges:2/km\n",
    "#sleeper charges:2/km\n",
    "#ac charges:4/km\n",
    "#first class charges:5/km\n",
    "class ticket:\n",
    "   \n",
    "    def __init__(self,D):\n",
    "        self.distance = int(D)\n",
    "        self.farePrice = None\n",
    "\n",
    "class gen(ticket):\n",
    "    def __init__(self,D):\n",
    "        super().__init__(D)\n",
    "    def print_ticket(self):\n",
    "        self.farePrice=50+(self.distance*2)\n",
    "        return self.farePrice\n",
    "        \n",
    "\n",
    "\n",
    "class slp(gen):\n",
    "    def __init__(self,D):\n",
    "        super().__init__(D)\n",
    "\n",
    "    def print_ticket(self):\n",
    "        self.farePrice=super().print_ticket()+(2*self.distance)\n",
    "        return self.farePrice\n",
    "\n",
    "class AC(slp):\n",
    "    def __init__(self,D):\n",
    "        super().__init__(D)\n",
    "    def print_ticket(self):\n",
    "        self.farePrice=super().print_ticket()+(4*self.distance)\n",
    "        return self.farePrice\n",
    "\n",
    "class FC(AC):\n",
    "    def __init__(self,D):\n",
    "        super().__init__(D)\n",
    "    def print_ticket(self):\n",
    "        self.farePrice=super().print_ticket()+(5*self.distance)\n",
    "        return self.farePrice\n",
    "\n",
    "\n",
    "jur = slp(500)\n",
    "print(\"Ticket booked Fare Price will be: \",jur.print_ticket())"
   ]
  },
  {
   "cell_type": "code",
   "execution_count": null,
   "id": "4746ede4-577e-4f46-9f64-7987e9f61fa0",
   "metadata": {},
   "outputs": [],
   "source": []
  }
 ],
 "metadata": {
  "kernelspec": {
   "display_name": "Python 3 (ipykernel)",
   "language": "python",
   "name": "python3"
  },
  "language_info": {
   "codemirror_mode": {
    "name": "ipython",
    "version": 3
   },
   "file_extension": ".py",
   "mimetype": "text/x-python",
   "name": "python",
   "nbconvert_exporter": "python",
   "pygments_lexer": "ipython3",
   "version": "3.12.3"
  }
 },
 "nbformat": 4,
 "nbformat_minor": 5
}
