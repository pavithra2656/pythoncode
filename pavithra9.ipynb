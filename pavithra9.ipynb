{
 "cells": [
  {
   "cell_type": "code",
   "execution_count": 12,
   "id": "60d3c05b-b246-4766-ba74-807997467bfc",
   "metadata": {},
   "outputs": [
    {
     "name": "stdout",
     "output_type": "stream",
     "text": [
      "old string= pavithra\n",
      "new string= arhtivap\n"
     ]
    }
   ],
   "source": [
    "#reverse a string using stack\n",
    "\n",
    "def rev_string(string):\n",
    "    stack=[]\n",
    "    for char in string:\n",
    "        stack.append(char)\n",
    "    revd_string=\"\"\n",
    "    while stack:\n",
    "        revd_string+=stack.pop()\n",
    "    return revd_string\n",
    "old_string=\"pavithra\" \n",
    "revd_string=rev_string(old_string)\n",
    "print(\"old string=\",old_string)\n",
    "print(\"new string=\",revd_string)"
   ]
  },
  {
   "cell_type": "code",
   "execution_count": 14,
   "id": "8ad7e19e-1266-4bd2-803d-a574892aa5cc",
   "metadata": {},
   "outputs": [
    {
     "name": "stdin",
     "output_type": "stream",
     "text": [
      " pavvi\n"
     ]
    },
    {
     "name": "stdout",
     "output_type": "stream",
     "text": [
      "ivvap"
     ]
    }
   ],
   "source": [
    "#reverse a string in stack\n",
    "a=input()\n",
    "s=[]\n",
    "for e in a:\n",
    "    s.append(e)\n",
    "while len(s)>0:\n",
    "    print(s.pop(),end=\"\")"
   ]
  },
  {
   "cell_type": "code",
   "execution_count": 3,
   "id": "4e829a04-38dd-4080-9061-0bf03e34bf32",
   "metadata": {},
   "outputs": [
    {
     "name": "stdin",
     "output_type": "stream",
     "text": [
      " pavvi pavithra\n"
     ]
    },
    {
     "name": "stdout",
     "output_type": "stream",
     "text": [
      "pavithra pavvi "
     ]
    }
   ],
   "source": [
    "#reverse a string word by word using stack\n",
    "a=input()\n",
    "s=[]\n",
    "for e in a.split():#splits \n",
    "    s.append(e)\n",
    "while len(s)>0:\n",
    "    print(s.pop(),end=\" \")"
   ]
  },
  {
   "cell_type": "code",
   "execution_count": 7,
   "id": "71eca53a-58c6-4d69-b79f-183d3021fa26",
   "metadata": {},
   "outputs": [
    {
     "name": "stdin",
     "output_type": "stream",
     "text": [
      "enter infix expr (a+b)-c\n"
     ]
    },
    {
     "name": "stdout",
     "output_type": "stream",
     "text": [
      "postfix expression is : ['a', 'b', '+', 'c', '-']\n"
     ]
    }
   ],
   "source": [
    "#infix to postfix using stack\n",
    "def prior(char):\n",
    "    if char==\"^\":\n",
    "        return 3\n",
    "    elif char==\"*\" or char==\"/\":\n",
    "        return 2\n",
    "    elif char==\"+\" or char==\"-\":\n",
    "        return 1\n",
    "    else:\n",
    "        return -1\n",
    "def ass(char):\n",
    "    if char==\"^\":\n",
    "        return 'R'\n",
    "    else:\n",
    "        return 'L'\n",
    "a=input(\"enter infix expr\")\n",
    "s=[]\n",
    "p=[]\n",
    "for char in a:\n",
    "    if char.isalnum():\n",
    "        p.append(char)\n",
    "    elif char=='(':\n",
    "        s.append(char)\n",
    "    elif char==')':\n",
    "        while  s[-1]!='(':\n",
    "            p.append(s.pop())\n",
    "        s.pop()\n",
    "    else:\n",
    "        while s and (prior(char)<prior(s[-1]) or (prior(char)<prior(s[-1]) and ass(char)=='L')):\n",
    "            p.append(s.pop())\n",
    "        s.append(char)\n",
    "while s:\n",
    "    p.append(s.pop())\n",
    "print(\"postfix expression is :\",p)"
   ]
  },
  {
   "cell_type": "code",
   "execution_count": 10,
   "id": "0c602419-0d2a-47aa-a72f-9fde28c6f422",
   "metadata": {},
   "outputs": [
    {
     "name": "stdin",
     "output_type": "stream",
     "text": [
      " a b d s a v a b a a a f f s g s v  \n"
     ]
    },
    {
     "name": "stdout",
     "output_type": "stream",
     "text": [
      "13 ['a', 'b', 'd', 's', 'a', 'v', 'a', 'b', 'a', 's', 'g', 's', 'v']\n"
     ]
    }
   ],
   "source": [
    "#example\n",
    "a=[item for item in input().split()]\n",
    "s=[]\n",
    "for item in a:\n",
    "    if not s:\n",
    "        s.append(item)\n",
    "    elif s[-1]==item:\n",
    "       s.pop()\n",
    "    else:\n",
    "        s.append(item)\n",
    "print(len(s),s)"
   ]
  },
  {
   "cell_type": "code",
   "execution_count": 8,
   "id": "80968a9e-d6dd-4bf0-9947-212a1fb07042",
   "metadata": {},
   "outputs": [
    {
     "name": "stdin",
     "output_type": "stream",
     "text": [
      " {pavi[t]hra}\n"
     ]
    },
    {
     "name": "stdout",
     "output_type": "stream",
     "text": [
      "unbalanced\n"
     ]
    }
   ],
   "source": [
    "#balancing brackets\n",
    "a=input()\n",
    "s=[]\n",
    "open_bracket=['(','{','[']\n",
    "close_bracket=[')','}',']']\n",
    "for i in a:\n",
    "    if i in open_bracket:\n",
    "        s.append(i)\n",
    "    elif i in close_bracket:\n",
    "        if not s or s.pop()!={'(':')','[':']','{':'}'}:\n",
    "            print(\"unbalanced\")\n",
    "            break;\n",
    "else:\n",
    "    print(\"balanced\")"
   ]
  },
  {
   "cell_type": "code",
   "execution_count": 4,
   "id": "968d6c97-1aed-4dc9-b72d-4025f861394b",
   "metadata": {},
   "outputs": [
    {
     "name": "stdout",
     "output_type": "stream",
     "text": [
      "False\n",
      "False\n"
     ]
    }
   ],
   "source": [
    "def is_balanced(expression):\n",
    "    stack = []\n",
    "    opening_brackets = '([{'\n",
    "    closing_brackets = ')]}'\n",
    "    bracket_pairs = {')': '(', ']': '[', '}': '{'}\n",
    "    \n",
    "    for char in expression:\n",
    "        if char in opening_brackets:\n",
    "            stack.append(char)\n",
    "        elif char in closing_brackets:\n",
    "            if not stack or stack.pop() != bracket_pairs[char]:\n",
    "                return False\n",
    "    \n",
    "    return not stack\n",
    "\n",
    "# Example usage:\n",
    "print(is_balanced(\"[{(}]\"))  # True\n",
    "print(is_balanced(\"{[}\"))      # False\n"
   ]
  },
  {
   "cell_type": "code",
   "execution_count": 11,
   "id": "ae4fa444-0b59-43ed-97cd-757c253a3b5c",
   "metadata": {},
   "outputs": [
    {
     "name": "stdin",
     "output_type": "stream",
     "text": [
      " {(}\n"
     ]
    },
    {
     "name": "stdout",
     "output_type": "stream",
     "text": [
      "invalid\n"
     ]
    }
   ],
   "source": [
    "a=input()\n",
    "s=[]\n",
    "for e in a:\n",
    "    if e=='('or e=='{' or e=='[':\n",
    "        s.append(e)\n",
    "    elif  (e==')' and s[-1]=='(') or (e=='}' and s[-1]=='{') or (e==']' and s[-1]=='['):\n",
    "       s.pop()\n",
    "    else:\n",
    "        continue\n",
    "if not s:\n",
    "    print(\"valid\")\n",
    "else:\n",
    "    print(\"invalid\")"
   ]
  },
  {
   "cell_type": "code",
   "execution_count": null,
   "id": "84b6a5aa-55c7-4ec6-964b-6c01511d7c5b",
   "metadata": {},
   "outputs": [],
   "source": []
  }
 ],
 "metadata": {
  "kernelspec": {
   "display_name": "Python 3 (ipykernel)",
   "language": "python",
   "name": "python3"
  },
  "language_info": {
   "codemirror_mode": {
    "name": "ipython",
    "version": 3
   },
   "file_extension": ".py",
   "mimetype": "text/x-python",
   "name": "python",
   "nbconvert_exporter": "python",
   "pygments_lexer": "ipython3",
   "version": "3.12.3"
  }
 },
 "nbformat": 4,
 "nbformat_minor": 5
}
