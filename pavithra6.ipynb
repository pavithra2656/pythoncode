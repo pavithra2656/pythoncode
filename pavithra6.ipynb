{
 "cells": [
  {
   "cell_type": "code",
   "execution_count": 4,
   "id": "af238617-4f57-4482-912a-007a5f3f5a73",
   "metadata": {},
   "outputs": [
    {
     "name": "stdout",
     "output_type": "stream",
     "text": [
      "car have attributes like: mercedes 6 80km/h 125cc KA 34 2656 72000 black\n",
      "truck having features like: 8 1000kg VRL 60 90km/h 200cc KA 34 5767 890000 yellow\n"
     ]
    }
   ],
   "source": [
    "class vehicle:\n",
    "    def __init__(self,e,r,p,c):\n",
    "        self.engine=e\n",
    "        self.reg_plate=r\n",
    "        self.price=p\n",
    "        self.color=c\n",
    "class car(vehicle):\n",
    "    def __init__(self,t,no_p,max_s,e,r,p,c):\n",
    "        self.type=t\n",
    "        self.no_of_passengers=no_p\n",
    "        self.max_speed=max_s\n",
    "        super().__init__(e,r,p,c)\n",
    "class truck(car):\n",
    "    def __init__(self,no_axel,l,t,no_p,max_s,e,r,p,c):\n",
    "        self.no_of_axel=no_axel\n",
    "        self.load_capacity=l\n",
    "        super().__init__(t,no_p,max_s,e,r,p,c)\n",
    "ob1=car(\"mercedes\",6,\"80km/h\",\"125cc\",\"KA 34 2656\",72000,\"black\")\n",
    "ob2=truck(8,\"1000kg\",\"VRL\",60,\"90km/h\",\"200cc\",\"KA 34 5767\",890000,\"yellow\")\n",
    "\n",
    "print(\"car have attributes like:\",ob1.type,ob1.no_of_passengers,ob1.max_speed,ob1.engine,ob1.reg_plate,ob1.price,ob1.color)\n",
    "print(\"truck having features like:\",ob2.no_of_axel,ob2.load_capacity,ob2.type,ob2.no_of_passengers,ob2.max_speed,ob2.engine,ob2.reg_plate,ob2.price,ob2.color)"
   ]
  },
  {
   "cell_type": "code",
   "execution_count": 7,
   "id": "df4353a5-8ca6-494e-9d2a-a0817c330f3a",
   "metadata": {},
   "outputs": [
    {
     "name": "stdout",
     "output_type": "stream",
     "text": [
      "staff includes: employee central_room 126 pavithra 30000\n",
      "developer includes: 2nd tech 2yrs developer control_room 124 paru 30000\n",
      "manager includes: construction pavithra 8th tech 5yrs manager 2nd floor 122 hemu 40000\n"
     ]
    }
   ],
   "source": [
    "class employee:\n",
    "    def __init__(self,id,name,salary):\n",
    "        self.id=id\n",
    "        self.name=name\n",
    "        self.salary=salary\n",
    "class staff(employee):\n",
    "    def __init__(self,w_type,w_area,id,name,salary):\n",
    "        self.w_type=w_type\n",
    "        self.w_area=w_area\n",
    "        super().__init__(id,name,salary)\n",
    "class developer(staff):\n",
    "    def __init__(self,module,tech,experience,w_type,w_area,id,name,salary):\n",
    "        self.module=module\n",
    "        self.tech=tech\n",
    "        self.experience=experience\n",
    "        super().__init__(w_type,w_area,id,name,salary)\n",
    "class manager(developer):\n",
    "    def __init__(self,project,client_name,module,tech,experience,w_type,w_area,id,name,salary):\n",
    "        self.project=project\n",
    "        self.client_name=client_name\n",
    "        super().__init__(module,tech,experience,w_type,w_area,id,name,salary)\n",
    "ob1=staff(\"employee\",\"central_room\",126,\"pavithra\",30000)\n",
    "ob2=developer(\"2nd\",\"tech\",\"2yrs\",\"developer\",\"control_room\",124,\"paru\",30000)\n",
    "ob3=manager(\"construction\",\"pavithra\",\"8th\",\"tech\",\"5yrs\",\"manager\",\"2nd floor\",122,\"hemu\",40000)\n",
    "print(\"staff includes:\",ob1.w_type,ob1.w_area,ob1.id,ob1.name,ob1.salary)\n",
    "print(\"developer includes:\",ob2.module,ob2.tech,ob2.experience,ob2.w_type,ob2.w_area,ob2.id,ob2.name,ob2.salary)\n",
    "print(\"manager includes:\",ob3.project,ob3.client_name,ob3.module,ob3.tech,ob3.experience,ob3.w_type,ob3.w_area,ob3.id,ob3.name,ob3.salary)"
   ]
  },
  {
   "cell_type": "code",
   "execution_count": 15,
   "id": "c3b25d38-6dab-42aa-a895-7fb71478be24",
   "metadata": {},
   "outputs": [
    {
     "name": "stdin",
     "output_type": "stream",
     "text": [
      "enter the no: 5\n"
     ]
    },
    {
     "name": "stdout",
     "output_type": "stream",
     "text": [
      "* \n",
      "* * \n",
      "* * * \n",
      "* * * * \n",
      "* * * * * \n"
     ]
    }
   ],
   "source": [
    "#pattern printing\n",
    "n=int(input(\"enter the no:\"))\n",
    "for i in range(0,n):\n",
    "    for j in range(0,i+1):\n",
    "        print(\"* \",end=\"\")\n",
    "    print()\n"
   ]
  },
  {
   "cell_type": "code",
   "execution_count": 18,
   "id": "f1115be5-52ca-4cbd-8141-63a829a96298",
   "metadata": {},
   "outputs": [
    {
     "name": "stdin",
     "output_type": "stream",
     "text": [
      "enter the no: 5\n"
     ]
    },
    {
     "name": "stdout",
     "output_type": "stream",
     "text": [
      "* * * * \n",
      "* * * \n",
      "* * \n",
      "* \n",
      "\n"
     ]
    }
   ],
   "source": [
    "n=int(input(\"enter the no:\"))\n",
    "for i in range(0,n):\n",
    "    for i in range(i+1,n):\n",
    "        print(\"*\",end=\" \")\n",
    "    print()"
   ]
  },
  {
   "cell_type": "code",
   "execution_count": 15,
   "id": "07992805-74c0-4bcc-ab62-e5563c2622a4",
   "metadata": {},
   "outputs": [
    {
     "name": "stdin",
     "output_type": "stream",
     "text": [
      "enter the no: 4\n",
      "enter the no: 4\n"
     ]
    },
    {
     "name": "stdout",
     "output_type": "stream",
     "text": [
      "* * * * \n",
      "* * * * \n",
      "* * * * \n",
      "* * * * \n"
     ]
    }
   ],
   "source": [
    "n=int(input(\"enter the no:\"))\n",
    "m=int(input(\"enter the no:\"))\n",
    "for i in range(0,n):\n",
    "    for i in range(0,m):\n",
    "        print(\"*\",end=\" \")\n",
    "    print()"
   ]
  },
  {
   "cell_type": "code",
   "execution_count": 42,
   "id": "c929ac2c-6646-4e8e-bcd0-04c5fcb1f46c",
   "metadata": {},
   "outputs": [
    {
     "name": "stdin",
     "output_type": "stream",
     "text": [
      "Enter the number of rows/columns for the square:  4\n"
     ]
    },
    {
     "name": "stdout",
     "output_type": "stream",
     "text": [
      "* * * * \n",
      "*     * \n",
      "*     * \n",
      "* * * * \n"
     ]
    }
   ],
   "source": [
    "#printing hollow square\n",
    "n = int(input(\"Enter the number of rows/columns for the square: \"))\n",
    "\n",
    "for i in range(n):\n",
    "    for j in range(n):\n",
    "        if i == 0 or i == n-1 or j == 0 or j == n-1:\n",
    "            print(\"*\", end=\" \")\n",
    "        else:\n",
    "            print(\" \", end=\" \")\n",
    "    print()"
   ]
  },
  {
   "cell_type": "code",
   "execution_count": 45,
   "id": "cc2f919d-faaa-4528-957a-2bd99212d1cf",
   "metadata": {},
   "outputs": [
    {
     "name": "stdin",
     "output_type": "stream",
     "text": [
      "enter the no: 4\n"
     ]
    },
    {
     "name": "stdout",
     "output_type": "stream",
     "text": [
      "0 \n",
      "1 1 \n",
      "2 2 2 \n",
      "3 3 3 3 \n"
     ]
    }
   ],
   "source": [
    "n=int(input(\"enter the no:\"))\n",
    "for i in range(0,n):\n",
    "    for j in range(0,i+1):\n",
    "        print(i,end=\" \")\n",
    "    print()\n"
   ]
  },
  {
   "cell_type": "code",
   "execution_count": 12,
   "id": "e09f1127-f57c-41d2-9124-397fc0d46a09",
   "metadata": {},
   "outputs": [
    {
     "name": "stdin",
     "output_type": "stream",
     "text": [
      "enter the no 5\n"
     ]
    },
    {
     "name": "stdout",
     "output_type": "stream",
     "text": [
      "* * * * * \n",
      " * * * * \n",
      "  * * * \n",
      "   * * \n",
      "    * \n"
     ]
    }
   ],
   "source": [
    "#printing inverted pyramid\n",
    "n=int(input(\"enter the no\"))\n",
    "for i in range(n):\n",
    "    for j in range(i):\n",
    "        print(\" \",end=\"\")\n",
    "    for k in range(n-i):\n",
    "        print(\"*\",end=\" \")\n",
    "    print()"
   ]
  },
  {
   "cell_type": "code",
   "execution_count": 20,
   "id": "8ca34ebe-9b0c-4c71-b067-585954063f41",
   "metadata": {},
   "outputs": [
    {
     "name": "stdin",
     "output_type": "stream",
     "text": [
      "enter the no 5\n"
     ]
    },
    {
     "name": "stdout",
     "output_type": "stream",
     "text": [
      "*****\n",
      " ****\n",
      "  ***\n",
      "   **\n",
      "    *\n"
     ]
    }
   ],
   "source": [
    "n=int(input(\"enter the no\"))\n",
    "for i in range(n):\n",
    "    for j in range(i):\n",
    "        print(\" \",end=\"\")\n",
    "    for k in range(n-i):\n",
    "        print(\"*\",end=\"\")\n",
    "    print()"
   ]
  },
  {
   "cell_type": "code",
   "execution_count": 21,
   "id": "b62d0668-e5c9-4a31-bf7b-d52453026c96",
   "metadata": {},
   "outputs": [
    {
     "name": "stdin",
     "output_type": "stream",
     "text": [
      "Enter the number for row:  5\n",
      "enter the number for col: 3\n"
     ]
    },
    {
     "name": "stdout",
     "output_type": "stream",
     "text": [
      "* * * \n",
      "*   * \n",
      "*   * \n",
      "*   * \n",
      "* * * \n"
     ]
    }
   ],
   "source": [
    "#printing rectangle\n",
    "n = int(input(\"Enter the number for row: \"))\n",
    "m=int(input(\"enter the number for col:\"))\n",
    "for i in range(n):\n",
    "    for j in range(m):\n",
    "        if i == 0 or i == n-1 or j == 0 or j == m-1:\n",
    "            print(\"*\", end=\" \")\n",
    "        else:\n",
    "            print(\" \", end=\" \")\n",
    "    print()"
   ]
  },
  {
   "cell_type": "code",
   "execution_count": 22,
   "id": "2f733542-b4de-4051-ae1e-e26c0c2fa573",
   "metadata": {},
   "outputs": [
    {
     "name": "stdin",
     "output_type": "stream",
     "text": [
      "enter the no of row: 5\n"
     ]
    },
    {
     "name": "stdout",
     "output_type": "stream",
     "text": [
      "*    \n",
      "**   \n",
      "* *  \n",
      "*  * \n",
      "*****\n"
     ]
    }
   ],
   "source": [
    "n=int(input(\"enter the no of row:\"))\n",
    "for i in range(n):\n",
    "    for j in range(n):\n",
    "        if i==n-1 or j==0 or i==j:\n",
    "            print(\"*\",end=\"\")\n",
    "        else:\n",
    "            print(\" \",end=\"\")\n",
    "    print()"
   ]
  },
  {
   "cell_type": "code",
   "execution_count": 24,
   "id": "58084e9a-bb9e-455a-8de3-17a59b1bbb34",
   "metadata": {},
   "outputs": [
    {
     "name": "stdin",
     "output_type": "stream",
     "text": [
      "enter no of row: 5\n"
     ]
    },
    {
     "name": "stdout",
     "output_type": "stream",
     "text": [
      "    *\n",
      "   **\n",
      "  * *\n",
      " *  *\n",
      "*****\n"
     ]
    }
   ],
   "source": [
    "n=int(input(\"enter no of row:\"))\n",
    "for i in range(n):\n",
    "    for j in range(n):\n",
    "        if i==n-1 or j==n-1 or i+j==n-1:\n",
    "            print(\"*\",end=\"\")\n",
    "        else:\n",
    "            print(\" \",end=\"\")\n",
    "    print()"
   ]
  },
  {
   "cell_type": "code",
   "execution_count": 25,
   "id": "02395098-86c3-4590-a1ab-5970314604cf",
   "metadata": {},
   "outputs": [
    {
     "name": "stdin",
     "output_type": "stream",
     "text": [
      "enter no of rows: 5\n"
     ]
    },
    {
     "name": "stdout",
     "output_type": "stream",
     "text": [
      "*****\n",
      "*  * \n",
      "* *  \n",
      "**   \n",
      "*    \n"
     ]
    }
   ],
   "source": [
    "n=int(input(\"enter no of rows:\"))\n",
    "for i in range(n):\n",
    "    for j in range(n):\n",
    "        if i==0 or j==0 or i+j==n-1:\n",
    "            print(\"*\",end=\"\")\n",
    "        else:\n",
    "            print(\" \",end=\"\")\n",
    "    print()"
   ]
  },
  {
   "cell_type": "code",
   "execution_count": 26,
   "id": "bbc5d0d5-35bf-4313-a0cb-6694bb5ff8d7",
   "metadata": {},
   "outputs": [
    {
     "name": "stdin",
     "output_type": "stream",
     "text": [
      "enter no of rows: 5\n"
     ]
    },
    {
     "name": "stdout",
     "output_type": "stream",
     "text": [
      "*****\n",
      " *  *\n",
      "  * *\n",
      "   **\n",
      "    *\n"
     ]
    }
   ],
   "source": [
    "n=int(input(\"enter no of rows:\"))\n",
    "for i in range(n):\n",
    "    for j in range(n):\n",
    "        if i==0 or j==n-1 or i==j:\n",
    "            print(\"*\",end=\"\")\n",
    "        else:\n",
    "            print(\" \",end=\"\")\n",
    "    print()"
   ]
  },
  {
   "cell_type": "code",
   "execution_count": null,
   "id": "7a45af5f-d550-4fab-81df-b1ee7098ca63",
   "metadata": {},
   "outputs": [],
   "source": []
  }
 ],
 "metadata": {
  "kernelspec": {
   "display_name": "Python 3 (ipykernel)",
   "language": "python",
   "name": "python3"
  },
  "language_info": {
   "codemirror_mode": {
    "name": "ipython",
    "version": 3
   },
   "file_extension": ".py",
   "mimetype": "text/x-python",
   "name": "python",
   "nbconvert_exporter": "python",
   "pygments_lexer": "ipython3",
   "version": "3.12.3"
  }
 },
 "nbformat": 4,
 "nbformat_minor": 5
}
