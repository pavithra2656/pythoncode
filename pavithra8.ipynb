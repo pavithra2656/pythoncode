{
 "cells": [
  {
   "cell_type": "code",
   "execution_count": 1,
   "id": "560d1209-fcc4-438b-8dfb-e501c00d3a90",
   "metadata": {},
   "outputs": [
    {
     "name": "stdin",
     "output_type": "stream",
     "text": [
      "enter the key: 45\n"
     ]
    },
    {
     "name": "stdout",
     "output_type": "stream",
     "text": [
      "[11, 12, 15, 22, 25, 35, 36, 42, 45, 51, 54, 55, 62, 63, 75, 77, 78, 84, 88, 96, 98]\n",
      "element found at  10\n"
     ]
    }
   ],
   "source": [
    "#binary search\n",
    "l=[78,45,12,98,62,35,36,84,51,75,54,96,55,77,88,11,22,42,15,63,25,]\n",
    "l.sort()\n",
    "low=0\n",
    "high=len(l)\n",
    "search=int(input(\"enter the key:\"))\n",
    "flag=0\n",
    "while low<high:\n",
    "    mid=int(low+(high-low)/2)\n",
    "    if search>l[mid]:\n",
    "        high=mid-1\n",
    "    elif search>l[mid]:\n",
    "        low=mid+1\n",
    "    else:\n",
    "        flag=1\n",
    "        break\n",
    "print(l)\n",
    "if flag==1:\n",
    "    print(\"element found at \",mid)\n",
    "else:\n",
    "    print(\"element not found\")"
   ]
  },
  {
   "cell_type": "code",
   "execution_count": 12,
   "id": "757c9ef6-7341-4a97-b0cd-47f7023e007e",
   "metadata": {},
   "outputs": [
    {
     "name": "stdin",
     "output_type": "stream",
     "text": [
      " ()\n"
     ]
    },
    {
     "name": "stdout",
     "output_type": "stream",
     "text": [
      "valid string\n"
     ]
    }
   ],
   "source": [
    "s=input()\n",
    "x=y=z=0\n",
    "for c in s:\n",
    "    match (c):\n",
    "        case '(':x+=1\n",
    "        case ')':x-=1\n",
    "        case '{':y+=1\n",
    "        case '}':y-=1\n",
    "        case '[':z+=1\n",
    "        case ']':z-=1\n",
    "        case _:continue\n",
    "if x+y+z==0:\n",
    "    print(\"valid string\")\n",
    "else:\n",
    "    print(\"invalid string\")"
   ]
  },
  {
   "cell_type": "code",
   "execution_count": 42,
   "id": "9431f013-370e-4e14-9488-056211826870",
   "metadata": {},
   "outputs": [
    {
     "name": "stdout",
     "output_type": "stream",
     "text": [
      "item added to the stack 4\n",
      "item added to the stack 1\n",
      "item added to the stack 2\n",
      "item added to the stack 3\n",
      "[4, 1, 2, 3]\n",
      "item deleted from the list 3\n",
      "[4, 1, 2]\n"
     ]
    }
   ],
   "source": [
    "#stack operations\n",
    "class stack:\n",
    "    def __init__(self):\n",
    "        self.item=[]\n",
    "    def push(self,x):\n",
    "        self.item.append(x)\n",
    "        print(\"item added to the stack\",x)\n",
    "    def pop(self):\n",
    "        items=self.item.pop()\n",
    "        print(\"item deleted from the list\",items)\n",
    "s=stack()\n",
    "s.push(4)\n",
    "s.push(1)\n",
    "s.push(2)\n",
    "s.push(3)\n",
    "print(s.item)\n",
    "s.pop()\n",
    "print(s.item)"
   ]
  },
  {
   "cell_type": "code",
   "execution_count": null,
   "id": "1af9ba19-b0ce-4ff9-a70b-2a866ad07a17",
   "metadata": {},
   "outputs": [],
   "source": []
  }
 ],
 "metadata": {
  "kernelspec": {
   "display_name": "Python 3 (ipykernel)",
   "language": "python",
   "name": "python3"
  },
  "language_info": {
   "codemirror_mode": {
    "name": "ipython",
    "version": 3
   },
   "file_extension": ".py",
   "mimetype": "text/x-python",
   "name": "python",
   "nbconvert_exporter": "python",
   "pygments_lexer": "ipython3",
   "version": "3.12.3"
  }
 },
 "nbformat": 4,
 "nbformat_minor": 5
}
