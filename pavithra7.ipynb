{
 "cells": [
  {
   "cell_type": "code",
   "execution_count": 12,
   "id": "3322c29d-53ca-4ed3-8b7c-ae7724ecf0cf",
   "metadata": {},
   "outputs": [
    {
     "name": "stdout",
     "output_type": "stream",
     "text": [
      "sum= 24\n"
     ]
    }
   ],
   "source": [
    "#find the sum of any 3 consicutive elements in this array\n",
    "l=[2,4,6,1,3,4,6,7,8,9,5,6,5,6,7,8,4,3,2,4,5,3,6]\n",
    "max=0\n",
    "for i in range(len(l)-2):\n",
    "    sum=l[i]+l[i+1]+l[i+2]\n",
    "    if(max<sum):\n",
    "        max=sum\n",
    "print(\"sum=\",max)"
   ]
  },
  {
   "cell_type": "code",
   "execution_count": 38,
   "id": "125a3aee-e56d-40b0-9b61-cef4e6d68da7",
   "metadata": {},
   "outputs": [
    {
     "name": "stdin",
     "output_type": "stream",
     "text": [
      "enter the no 4\n"
     ]
    },
    {
     "name": "stdout",
     "output_type": "stream",
     "text": [
      "30\n"
     ]
    }
   ],
   "source": [
    "#find the sum of consicutive elements in this array\n",
    "a=[2,4,6,1,3,4,6,7,8,9,5,6,5,6,7,8,4,3,2,4,5,3,6]\n",
    "max=0\n",
    "n=int(input(\"enter the no\"))\n",
    "for i in range(len(a)-(n-1)):\n",
    "    s=0\n",
    "    for j in range(0,n):\n",
    "        s=s+a[i+j]\n",
    "        if max<s:\n",
    "            max=s\n",
    "print(max)"
   ]
  },
  {
   "cell_type": "code",
   "execution_count": 39,
   "id": "f8bd3f00-dd2e-45cb-a18e-388f174e8530",
   "metadata": {},
   "outputs": [
    {
     "name": "stdin",
     "output_type": "stream",
     "text": [
      "enetr the no: 4\n"
     ]
    },
    {
     "name": "stdout",
     "output_type": "stream",
     "text": [
      "30\n"
     ]
    }
   ],
   "source": [
    " #find the sum of consicutive elements in this array\n",
    "l=[2,4,6,1,3,4,6,7,8,9,5,6,5,6,7,8,4,3,2,4,5,3,6]\n",
    "max=s=0\n",
    "con=int(input(\"enetr the no:\"))\n",
    "for i in range(0,con):\n",
    "    s+=l[i]\n",
    "for j in range(0,len(l)-con-1):\n",
    "    if max<s:\n",
    "        max=s\n",
    "    s=s+l[j+con]-l[j]\n",
    "print(max)"
   ]
  },
  {
   "cell_type": "code",
   "execution_count": 40,
   "id": "d35e4a63-44fd-49f0-90ca-f29467033610",
   "metadata": {},
   "outputs": [
    {
     "name": "stdout",
     "output_type": "stream",
     "text": [
      "[2, 4, 4, 5, 6, 7, 8, 9]\n"
     ]
    }
   ],
   "source": [
    "#sort\n",
    "l=[2,5,7,8,4,6,9,4]\n",
    "l.sort()\n",
    "print(l)"
   ]
  },
  {
   "cell_type": "code",
   "execution_count": 44,
   "id": "b210530c-447c-4426-abcd-ac8c3ae42b9f",
   "metadata": {},
   "outputs": [
    {
     "name": "stdout",
     "output_type": "stream",
     "text": [
      "[4, 9, 6, 4, 8, 7, 5, 2]\n"
     ]
    }
   ],
   "source": [
    "l=[2,5,7,8,4,6,9,4]\n",
    "l.reverse()\n",
    "print(l)"
   ]
  },
  {
   "cell_type": "code",
   "execution_count": 51,
   "id": "ec69c4dc-0ac3-4c9a-b2f4-ffa742d9eb8c",
   "metadata": {},
   "outputs": [
    {
     "name": "stdout",
     "output_type": "stream",
     "text": [
      "[2, 4, 4, 5, 6, 7, 8, 9]\n"
     ]
    }
   ],
   "source": [
    "#bubble sort\n",
    "l=[2,5,7,8,4,6,9,4]\n",
    "n=len(l)\n",
    "for i in range(n):\n",
    "    for j in range(n-i-1):\n",
    "        if l[j]>l[j+1]:\n",
    "           l[j],l[j+1]=l[j+1],l[j]\n",
    "print(l)"
   ]
  },
  {
   "cell_type": "code",
   "execution_count": 72,
   "id": "94ea99c1-b669-4d05-b535-d338384107c3",
   "metadata": {},
   "outputs": [
    {
     "name": "stdout",
     "output_type": "stream",
     "text": [
      "[2, 5, 7, 8, 8, 8, 9, 9]\n"
     ]
    }
   ],
   "source": [
    "#insertion sort\n",
    "a=[2,5,7,8,4,6,9,4]\n",
    "n=len(a)\n",
    "temp=0\n",
    "for i in range(1,n):\n",
    "    for j in range(i,0,-1):\n",
    "        temp=a[j]\n",
    "        if temp<a[j-1]:\n",
    "            a[j]=a[j-1]\n",
    "        else:\n",
    "            a[j]=temp\n",
    "print(a)"
   ]
  },
  {
   "cell_type": "code",
   "execution_count": 67,
   "id": "0d93e8d5-1882-4d76-9e3a-7615d965586e",
   "metadata": {},
   "outputs": [
    {
     "name": "stdout",
     "output_type": "stream",
     "text": [
      "Sorted array: [2, 4, 4, 5, 6, 7, 8, 9]\n"
     ]
    }
   ],
   "source": [
    "#insertion sort\n",
    "a = [2, 5, 7, 8, 4, 6, 9, 4]\n",
    "n = len(a)\n",
    "\n",
    "for i in range(1, n):\n",
    "    for j in range(i, 0, -1):\n",
    "        if a[j] < a[j - 1]:\n",
    "            a[j], a[j - 1] = a[j - 1], a[j]\n",
    "        else:\n",
    "            break\n",
    "\n",
    "print(\"Sorted array:\", a)\n"
   ]
  },
  {
   "cell_type": "code",
   "execution_count": 6,
   "id": "cecd628a-8f69-4123-b1df-d7a5d396ddcd",
   "metadata": {},
   "outputs": [
    {
     "name": "stdout",
     "output_type": "stream",
     "text": [
      "[0, 4, 10, 15, 23]\n"
     ]
    }
   ],
   "source": [
    "#bubble sort\n",
    "l=[10,15,4,23,0]\n",
    "for j in range(len(l)-1):\n",
    "    for i in range(len(l)-1):\n",
    "        if l[i]>l[i+1]:#output to be in ascending order(< for descending order)\n",
    "            l[i],l[i+1]=l[i+1],l[i]\n",
    "       \n",
    "print(l)"
   ]
  },
  {
   "cell_type": "code",
   "execution_count": null,
   "id": "3ce2b00b-f24c-45ef-b066-9912927cafb3",
   "metadata": {},
   "outputs": [],
   "source": []
  }
 ],
 "metadata": {
  "kernelspec": {
   "display_name": "Python 3 (ipykernel)",
   "language": "python",
   "name": "python3"
  },
  "language_info": {
   "codemirror_mode": {
    "name": "ipython",
    "version": 3
   },
   "file_extension": ".py",
   "mimetype": "text/x-python",
   "name": "python",
   "nbconvert_exporter": "python",
   "pygments_lexer": "ipython3",
   "version": "3.12.3"
  }
 },
 "nbformat": 4,
 "nbformat_minor": 5
}
