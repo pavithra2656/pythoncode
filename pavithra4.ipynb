{
 "cells": [
  {
   "cell_type": "code",
   "execution_count": 1,
   "id": "86968168-1127-4e7b-b5c1-41e72418508d",
   "metadata": {},
   "outputs": [],
   "source": [
    "#write to the file\n",
    "import os\n",
    "with open(\"file.txt\",'w') as f:\n",
    "    f.write(\"pavithra\")"
   ]
  },
  {
   "cell_type": "code",
   "execution_count": 2,
   "id": "02d9e930-af25-461d-8786-823a891e1b1d",
   "metadata": {},
   "outputs": [],
   "source": [
    "#append to the file\n",
    "import os\n",
    "with open(\"file.txt\",'a') as f:\n",
    "    f.write(\"pavithra-2\")"
   ]
  },
  {
   "cell_type": "code",
   "execution_count": 3,
   "id": "9c92244c-a26c-4ed8-aac0-aa2080749cad",
   "metadata": {},
   "outputs": [
    {
     "name": "stdout",
     "output_type": "stream",
     "text": [
      "pavithrapavithra-2\n",
      "hi\n"
     ]
    }
   ],
   "source": [
    "#read from file\n",
    "import os\n",
    "with open(\"file.txt\",'r') as f:\n",
    "    for i in f.read().split():\n",
    "        print(i)\n",
    "        print(\"hi\")\n",
    "        f.close()"
   ]
  },
  {
   "cell_type": "code",
   "execution_count": 4,
   "id": "98ccc526-0433-4c31-bb93-a8760f34845d",
   "metadata": {},
   "outputs": [],
   "source": [
    "import os\n",
    "os.remove(\"file.txt\")"
   ]
  },
  {
   "cell_type": "code",
   "execution_count": 5,
   "id": "f744508d-e2bf-493b-af8c-fe740141a397",
   "metadata": {},
   "outputs": [
    {
     "name": "stdout",
     "output_type": "stream",
     "text": [
      "file does not exist\n"
     ]
    }
   ],
   "source": [
    "import os\n",
    "with open(\"hp\",'w') as f:\n",
    "        f.write(\"HELP\")\n",
    "try:\n",
    "    with open(\"pavvi\",'r') as f:\n",
    "        for i in f.read():\n",
    "            print(i)\n",
    "            print(\"hi\")\n",
    "except:\n",
    "    print(\"file does not exist\")"
   ]
  },
  {
   "cell_type": "code",
   "execution_count": 6,
   "id": "da87bcf8-f500-4e95-9e76-3707a928c1cf",
   "metadata": {},
   "outputs": [
    {
     "name": "stdin",
     "output_type": "stream",
     "text": [
      "enter the  celcius 10\n"
     ]
    },
    {
     "name": "stdout",
     "output_type": "stream",
     "text": [
      "50.0\n"
     ]
    }
   ],
   "source": [
    "#celcius to fahrenheit\n",
    "c=int(input(\"enter the  celcius\"))\n",
    "f=(c*9/5)+32\n",
    "print(f)"
   ]
  },
  {
   "cell_type": "code",
   "execution_count": 7,
   "id": "7138d22f-723a-41ae-abab-2a0a753be410",
   "metadata": {},
   "outputs": [
    {
     "name": "stdout",
     "output_type": "stream",
     "text": [
      "58\n"
     ]
    }
   ],
   "source": [
    "#print second largest element in list\n",
    "l1=[20,39,47,58,27,69]\n",
    "l1.sort()\n",
    "print(l1[-2])"
   ]
  },
  {
   "cell_type": "code",
   "execution_count": 8,
   "id": "4361c973-20bc-4c2b-b2b3-9228df237c12",
   "metadata": {},
   "outputs": [
    {
     "name": "stdin",
     "output_type": "stream",
     "text": [
      "Enter the number to search for:  2\n"
     ]
    },
    {
     "name": "stdout",
     "output_type": "stream",
     "text": [
      "The number 2 appears 2 times in the list.\n"
     ]
    }
   ],
   "source": [
    "#count the occurances of a number in the list\n",
    "l = [2, 5, 6, 3, 5, 4, 5, 2, 4, 6]\n",
    "a = int(input(\"Enter the number to search for: \"))\n",
    "count = 0\n",
    "\n",
    "for i in l:\n",
    "    if i == a:\n",
    "        count += 1\n",
    "\n",
    "if count > 0:\n",
    "    print(f\"The number {a} appears {count} times in the list.\")\n",
    "else:\n",
    "    print(\"Element not found in the list.\")"
   ]
  },
  {
   "cell_type": "code",
   "execution_count": 9,
   "id": "977d0ab5-976a-4791-bee6-1990b8596911",
   "metadata": {},
   "outputs": [
    {
     "name": "stdout",
     "output_type": "stream",
     "text": [
      "sum= 28\n"
     ]
    }
   ],
   "source": [
    "#find the sum of all even numbers in a lis\n",
    "l=[2,3,4,5,6,7,8,9,1,3,5,2,6]\n",
    "sum=0\n",
    "for i in l:\n",
    "    if i%2==0:\n",
    "        sum+=i\n",
    "print(\"sum=\",sum)"
   ]
  },
  {
   "cell_type": "code",
   "execution_count": null,
   "id": "7632b5d3-78ab-4996-b6be-3684fea5fcb9",
   "metadata": {},
   "outputs": [],
   "source": [
    "string=input(\"Enter string:\")\n",
    "vowels=0\n",
    "for i in string:\n",
    "      if(i=='a' or i=='e' or i=='i' or i=='o' or i=='u' or i=='A' or i=='E' or i=='I' or i=='O' or i=='U'):\n",
    "            vowels=vowels+1\n",
    "print(\"Number of vowels are:\")\n",
    "print(vowels)"
   ]
  },
  {
   "cell_type": "code",
   "execution_count": null,
   "id": "b34d5aa4-dc22-463a-8306-82df9b6fb27e",
   "metadata": {},
   "outputs": [],
   "source": [
    "def reverse(s):\n",
    "    w=s.split(\"\")\n",
    "    new=[i[::-1] for i in w]\n",
    "    ns=\" \".join(new)\n",
    "    return ns\n",
    "s=input(\"enter a sentence:\")\n",
    "print(reverse(s))"
   ]
  },
  {
   "cell_type": "code",
   "execution_count": null,
   "id": "0c5e789f-0807-4e8a-a1c4-3d0d780aaf3a",
   "metadata": {},
   "outputs": [],
   "source": []
  }
 ],
 "metadata": {
  "kernelspec": {
   "display_name": "Python 3 (ipykernel)",
   "language": "python",
   "name": "python3"
  },
  "language_info": {
   "codemirror_mode": {
    "name": "ipython",
    "version": 3
   },
   "file_extension": ".py",
   "mimetype": "text/x-python",
   "name": "python",
   "nbconvert_exporter": "python",
   "pygments_lexer": "ipython3",
   "version": "3.12.3"
  }
 },
 "nbformat": 4,
 "nbformat_minor": 5
}
